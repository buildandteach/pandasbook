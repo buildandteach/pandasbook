{
 "cells": [
  {
   "cell_type": "code",
   "execution_count": 2,
   "metadata": {
    "scrolled": true
   },
   "outputs": [
    {
     "data": {
      "text/plain": [
       "Henry     97\n",
       "John      93\n",
       "Jane     100\n",
       "Henry     86\n",
       "John     100\n",
       "Jane      86\n",
       "Henry     93\n",
       "John      84\n",
       "Jane      99\n",
       "Name: history_grades, dtype: int64"
      ]
     },
     "execution_count": 2,
     "metadata": {},
     "output_type": "execute_result"
    }
   ],
   "source": [
    "#import the pandas library\n",
    "import pandas as pd\n",
    "\n",
    "#create the Pandas Series include the Data, Name and index\n",
    "grades = pd.Series([97,93,100,86,100,86,93,84,99],name = \"history_grades\", \n",
    "                   index = [\"Henry\",\"John\",\"Jane\",\"Henry\",\"John\",\"Jane\",\"Henry\",\"John\",\"Jane\"])\n",
    "#display grades series\n",
    "grades\n",
    "\n",
    "#PRESS Shift + Enter"
   ]
  },
  {
   "cell_type": "code",
   "execution_count": 109,
   "metadata": {},
   "outputs": [
    {
     "name": "stdout",
     "output_type": "stream",
     "text": [
      "97\n"
     ]
    }
   ],
   "source": [
    "# 1) Using iloc for a single index: This example returns the first value of the Series.\n",
    "s = grades.iloc[0]\n",
    "print(s)"
   ]
  },
  {
   "cell_type": "code",
   "execution_count": 110,
   "metadata": {},
   "outputs": [
    {
     "name": "stdout",
     "output_type": "stream",
     "text": [
      "Henry    97\n",
      "Jane     86\n",
      "Name: history_grades, dtype: int64\n"
     ]
    }
   ],
   "source": [
    "# 2) Using iloc for multiple indexes: This example returns the first value and the fourth value of the Series.\n",
    "s = grades.iloc[[0,5]]\n",
    "print(s)"
   ]
  },
  {
   "cell_type": "code",
   "execution_count": 3,
   "metadata": {},
   "outputs": [
    {
     "name": "stdout",
     "output_type": "stream",
     "text": [
      "--Start from 1st item and end at 3rd item--\n",
      "Henry     97\n",
      "John      93\n",
      "Jane     100\n",
      "Name: history_grades, dtype: int64\n",
      "--Start after 3rd item to the end of Series--\n",
      "Henry     86\n",
      "John     100\n",
      "Jane      86\n",
      "Henry     93\n",
      "John      84\n",
      "Jane      99\n",
      "Name: history_grades, dtype: int64\n",
      "--Start after 2nd item to the 4th of the Series  \n",
      "Jane     100\n",
      "Henry     86\n",
      "Name: history_grades, dtype: int64\n"
     ]
    }
   ],
   "source": [
    "# 3) Using iloc for a range of indexes:\n",
    "print('--Start from 1st item and end at 3rd item--')\n",
    "a = grades.iloc[:3]\n",
    "print(a)\n",
    "print('--Start after 3rd item to the end of Series--')\n",
    "b = grades.iloc[3:]\n",
    "print(b)\n",
    "print(\"--Start after 2nd item to the 4th of the Series  \")\n",
    "c = grades.iloc[2:4]\n",
    "print(c)"
   ]
  },
  {
   "cell_type": "code",
   "execution_count": 4,
   "metadata": {},
   "outputs": [
    {
     "name": "stdout",
     "output_type": "stream",
     "text": [
      "Henry    97\n",
      "Henry    86\n",
      "Henry    93\n",
      "Name: history_grades, dtype: int64\n"
     ]
    }
   ],
   "source": [
    "# 1) Using loc to search for a single index label\n",
    "s = grades.loc[\"Henry\"]\n",
    "print(s)"
   ]
  },
  {
   "cell_type": "code",
   "execution_count": 5,
   "metadata": {},
   "outputs": [
    {
     "name": "stdout",
     "output_type": "stream",
     "text": [
      "Henry     97\n",
      "Henry     86\n",
      "Henry     93\n",
      "Jane     100\n",
      "Jane      86\n",
      "Jane      99\n",
      "Name: history_grades, dtype: int64\n"
     ]
    }
   ],
   "source": [
    "# 2) Using loc to search for multiple index labels\n",
    "s = grades.loc[[\"Henry\",\"Jane\"]]\n",
    "print(s)"
   ]
  },
  {
   "cell_type": "code",
   "execution_count": 20,
   "metadata": {},
   "outputs": [
    {
     "name": "stdout",
     "output_type": "stream",
     "text": [
      "Jane    100\n",
      "John    100\n",
      "Name: history_grades, dtype: int64\n"
     ]
    }
   ],
   "source": [
    "# 1) Filter all grades where value equals 100\n",
    "s = grades[grades == 100]\n",
    "print(s)"
   ]
  },
  {
   "cell_type": "code",
   "execution_count": 15,
   "metadata": {},
   "outputs": [
    {
     "name": "stdout",
     "output_type": "stream",
     "text": [
      "Henry    86.0\n",
      "Jane     86.0\n",
      "John     84.0\n",
      "Name: history_grades, dtype: float64\n"
     ]
    }
   ],
   "source": [
    "# 2) Filter grades where value is less than 99 and drop N/A values\n",
    "s = grades.where(grades < 90).dropna()\n",
    "print(s)"
   ]
  },
  {
   "cell_type": "code",
   "execution_count": 73,
   "metadata": {},
   "outputs": [
    {
     "name": "stdout",
     "output_type": "stream",
     "text": [
      "Jane    100\n",
      "John    100\n",
      "Jane     99\n",
      "Name: history_grades, dtype: int64\n"
     ]
    }
   ],
   "source": [
    "# 3) Filter grades where value equals 100 or 99\n",
    "s = grades[grades.isin([100,99])]\n",
    "print(s)"
   ]
  },
  {
   "cell_type": "code",
   "execution_count": 18,
   "metadata": {},
   "outputs": [
    {
     "name": "stdout",
     "output_type": "stream",
     "text": [
      "Henry     True\n",
      "Henry    False\n",
      "Henry     True\n",
      "Name: history_grades, dtype: bool\n"
     ]
    }
   ],
   "source": [
    "# 4) Filter loc method results by value. returns bool from filter\n",
    "s = grades.loc[\"Henry\"] > 90\n",
    "print(s)"
   ]
  },
  {
   "cell_type": "code",
   "execution_count": 19,
   "metadata": {},
   "outputs": [
    {
     "data": {
      "text/plain": [
       "Henry    97.0\n",
       "Henry    93.0\n",
       "Name: history_grades, dtype: float64"
      ]
     },
     "execution_count": 19,
     "metadata": {},
     "output_type": "execute_result"
    }
   ],
   "source": [
    "# 5) Filter values using loc to get row values. drop n/a rows.\n",
    "s = grades.loc[\"Henry\"]\n",
    "t = s.where(s > 90).dropna()\n",
    "t"
   ]
  },
  {
   "cell_type": "code",
   "execution_count": 89,
   "metadata": {},
   "outputs": [
    {
     "name": "stdout",
     "output_type": "stream",
     "text": [
      "93.11111111111111\n"
     ]
    }
   ],
   "source": [
    "# 1) Return a single statistic, Mean.\n",
    "mean = grades.mean()\n",
    "print(mean)"
   ]
  },
  {
   "cell_type": "code",
   "execution_count": 23,
   "metadata": {},
   "outputs": [
    {
     "name": "stdout",
     "output_type": "stream",
     "text": [
      "count      9.000000\n",
      "mean      93.111111\n",
      "std        6.411795\n",
      "min       84.000000\n",
      "25%       86.000000\n",
      "50%       93.000000\n",
      "75%       99.000000\n",
      "max      100.000000\n",
      "Name: history_grades, dtype: float64\n"
     ]
    }
   ],
   "source": [
    "# 2) Return all statistics. Returns a Series with Statistics on the Pandas Series\n",
    "stats = grades.describe()\n",
    "print(stats)"
   ]
  },
  {
   "cell_type": "code",
   "execution_count": 24,
   "metadata": {},
   "outputs": [
    {
     "data": {
      "text/plain": [
       "93.11111111111111"
      ]
     },
     "execution_count": 24,
     "metadata": {},
     "output_type": "execute_result"
    }
   ],
   "source": [
    "#return only mean from stats\n",
    "stats[\"mean\"]"
   ]
  },
  {
   "cell_type": "code",
   "execution_count": 25,
   "metadata": {},
   "outputs": [
    {
     "data": {
      "text/plain": [
       "mean     93.111111\n",
       "count     9.000000\n",
       "Name: history_grades, dtype: float64"
      ]
     },
     "execution_count": 25,
     "metadata": {},
     "output_type": "execute_result"
    }
   ],
   "source": [
    "#return mean and count from stats\n",
    "stats[[\"mean\",\"count\"]]"
   ]
  },
  {
   "cell_type": "code",
   "execution_count": 2,
   "metadata": {},
   "outputs": [],
   "source": [
    "import pandas as pd\n",
    "df=pd.DataFrame(['Text to copy'])\n",
    "df.to_clipboard(index=False,header=False)"
   ]
  },
  {
   "cell_type": "code",
   "execution_count": 3,
   "metadata": {},
   "outputs": [
    {
     "data": {
      "text/html": [
       "<div>\n",
       "<style scoped>\n",
       "    .dataframe tbody tr th:only-of-type {\n",
       "        vertical-align: middle;\n",
       "    }\n",
       "\n",
       "    .dataframe tbody tr th {\n",
       "        vertical-align: top;\n",
       "    }\n",
       "\n",
       "    .dataframe thead th {\n",
       "        text-align: right;\n",
       "    }\n",
       "</style>\n",
       "<table border=\"1\" class=\"dataframe\">\n",
       "  <thead>\n",
       "    <tr style=\"text-align: right;\">\n",
       "      <th></th>\n",
       "      <th>Text</th>\n",
       "      <th>to</th>\n",
       "      <th>copy</th>\n",
       "    </tr>\n",
       "  </thead>\n",
       "  <tbody>\n",
       "  </tbody>\n",
       "</table>\n",
       "</div>"
      ],
      "text/plain": [
       "Empty DataFrame\n",
       "Columns: [Text, to, copy]\n",
       "Index: []"
      ]
     },
     "execution_count": 3,
     "metadata": {},
     "output_type": "execute_result"
    }
   ],
   "source": [
    "df2 = pd.read_clipboard()\n",
    "df2"
   ]
  },
  {
   "cell_type": "code",
   "execution_count": null,
   "metadata": {},
   "outputs": [],
   "source": []
  }
 ],
 "metadata": {
  "kernelspec": {
   "display_name": "Python 3",
   "language": "python",
   "name": "python3"
  },
  "language_info": {
   "codemirror_mode": {
    "name": "ipython",
    "version": 3
   },
   "file_extension": ".py",
   "mimetype": "text/x-python",
   "name": "python",
   "nbconvert_exporter": "python",
   "pygments_lexer": "ipython3",
   "version": "3.6.6"
  }
 },
 "nbformat": 4,
 "nbformat_minor": 2
}
